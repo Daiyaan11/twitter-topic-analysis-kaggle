import sys
sys.path.append('../src')

import pandas as pd
from data_loader import load_data
from preprocess import clean_text
from topic_modeling import extract_topics
from visualize import plot_wordcloud

# 1️⃣ Load the Kaggle COVID-19 tweets dataset
df = load_data('../data/raw/covid19_tweets.csv')

# Check the first few rows
print("Dataset columns:", df.columns)
df.head()

# 2️⃣ Define target hashtags
target_hashtags = ['#covid_19sa', '#lockdownsa', '#stayathome', '#inolongerremember', '#wfh', '#workingfromhome']

# Ensure lowercase for matching
df['text_lower'] = df['text'].str.lower()

# 3️⃣ Filter tweets containing target hashtags
filtered_df = df[df['text_lower'].apply(lambda x: any(tag in x for tag in target_hashtags))]

print(f"Filtered down to {len(filtered_df)} tweets with target hashtags.")
filtered_df.head()

# 4️⃣ Clean the tweet text
filtered_df['clean_text'] = filtered_df['text'].apply(clean_text)

# Show cleaned examples
filtered_df[['text', 'clean_text']].head()

# 5️⃣ Visualize common words (wordcloud)
plot_wordcloud(filtered_df['clean_text'], 'Wordcloud of Filtered Tweets')

# 6️⃣ Extract and display topics
extract_topics(filtered_df['clean_text'], num_topics=5, num_words=10)

# 7️⃣ Optional: Save processed data
filtered_df.to_csv('../data/processed/filtered_covid19_tweets.csv', index=False)
print("Filtered and cleaned data saved to processed folder.")
