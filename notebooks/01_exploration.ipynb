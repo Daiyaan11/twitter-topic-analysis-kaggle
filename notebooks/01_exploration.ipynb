import sys
sys.path.append('../src')

from data_loader import load_data
from preprocess import clean_text
from topic_modeling import extract_topics
from visualize import plot_wordcloud

# Load data
df = load_data('../data/raw/tweets.csv')

# Clean text
df['clean_text'] = df['text'].apply(clean_text)

# Visualize
plot_wordcloud(df['clean_text'], 'Tweet Wordcloud')

# Extract topics
extract_topics(df['clean_text'])
